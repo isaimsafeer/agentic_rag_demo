{
 "cells": [
  {
   "cell_type": "code",
   "execution_count": 33,
   "metadata": {},
   "outputs": [],
   "source": [
    "from langchain_openai import ChatOpenAI\n",
    "from crewai_tools import PDFSearchTool\n",
    "from crewai.tools import tool\n",
    "from crewai import Crew\n",
    "from crewai import Task\n",
    "from crewai import Agent\n",
    "from langchain.document_loaders import PyPDFLoader, DirectoryLoader\n",
    "from langchain_community.tools import TavilySearchResults\n",
    "import getpass"
   ]
  },
  {
   "cell_type": "code",
   "execution_count": 2,
   "metadata": {},
   "outputs": [
    {
     "data": {
      "text/plain": [
       "True"
      ]
     },
     "execution_count": 2,
     "metadata": {},
     "output_type": "execute_result"
    }
   ],
   "source": [
    "from dotenv import load_dotenv\n",
    "import os\n",
    "load_dotenv()\n"
   ]
  },
  {
   "cell_type": "code",
   "execution_count": 3,
   "metadata": {},
   "outputs": [],
   "source": [
    "llm = ChatOpenAI(\n",
    "    openai_api_base=\"https://api.groq.com/openai/v1\",\n",
    "    model=\"llama-3.3-70b-versatile\",\n",
    "    api_key=os.getenv(\"GROQ_API_KEY\"),\n",
    "    temperature=1,\n",
    "    max_tokens=1000\n",
    ")"
   ]
  },
  {
   "cell_type": "code",
   "execution_count": 17,
   "metadata": {},
   "outputs": [
    {
     "name": "stdout",
     "output_type": "stream",
     "text": [
      "content='The capital of Pakistan is Islamabad.' response_metadata={'token_usage': {'completion_tokens': 8, 'prompt_tokens': 42, 'total_tokens': 50, 'completion_tokens_details': None, 'prompt_tokens_details': None, 'queue_time': 0.062000846, 'prompt_time': 0.002014243, 'completion_time': 0.029090909, 'total_time': 0.031105152}, 'model_name': 'llama-3.3-70b-versatile', 'system_fingerprint': 'fp_90c1d253ff', 'finish_reason': 'stop', 'logprobs': None} id='run-4f9df476-46dc-41bb-9f12-253601150fb0-0'\n"
     ]
    }
   ],
   "source": [
    "response = llm.invoke(\"What is the capital of Pakistan?\")\n",
    "print(response)"
   ]
  },
  {
   "cell_type": "code",
   "execution_count": 4,
   "metadata": {},
   "outputs": [],
   "source": [
    "# loading pdf file\n",
    "def load_pdf_file(data):\n",
    "    loader = DirectoryLoader(data,\n",
    "                             glob=\"*.pdf\",\n",
    "                             loader_cls=PyPDFLoader)\n",
    "    \n",
    "    documents = loader.load()\n",
    "    return documents"
   ]
  },
  {
   "cell_type": "code",
   "execution_count": 9,
   "metadata": {},
   "outputs": [],
   "source": [
    "data = load_pdf_file(\"data\")"
   ]
  },
  {
   "cell_type": "code",
   "execution_count": null,
   "metadata": {},
   "outputs": [],
   "source": []
  },
  {
   "cell_type": "code",
   "execution_count": 19,
   "metadata": {},
   "outputs": [
    {
     "name": "stderr",
     "output_type": "stream",
     "text": [
      "Inserting batches in chromadb:   0%|          | 0/1 [00:00<?, ?it/s]c:\\Users\\Saim Safeer\\Desktop\\RAG\\agentic_rag_ai\\env\\Lib\\site-packages\\chromadb\\types.py:144: PydanticDeprecatedSince211: Accessing this attribute on the instance is deprecated, and will be removed in Pydantic V3. Instead, you should access this attribute from the model class. Deprecated in Pydantic V2.11 to be removed in V3.0.\n",
      "  return self.model_fields  # pydantic 2.x\n",
      "Inserting batches in chromadb: 100%|██████████| 1/1 [00:03<00:00,  3.29s/it]\n"
     ]
    }
   ],
   "source": [
    "rag_tool = PDFSearchTool(pdf=\"data.pdf\",\n",
    "    config=dict(\n",
    "        llm=dict(\n",
    "            provider=\"groq\", # or google, openai, anthropic, llama2, ...\n",
    "            config=dict(\n",
    "                model=\"llama-3.3-70b-versatile\",\n",
    "                # temperature=0.5,\n",
    "                # top_p=1,\n",
    "                # stream=true,\n",
    "            ),\n",
    "        ),\n",
    "        embedder=dict(\n",
    "            provider=\"huggingface\", # or openai, ollama, ...\n",
    "            config=dict(\n",
    "                model=\"sentence-transformers/all-MiniLM-L6-v2\",\n",
    "                # task_type=\"retrieval_document\",\n",
    "                # title=\"Embeddings\",\n",
    "            ),\n",
    "        ),\n",
    "    )\n",
    ")"
   ]
  },
  {
   "cell_type": "code",
   "execution_count": 20,
   "metadata": {},
   "outputs": [
    {
     "name": "stdout",
     "output_type": "stream",
     "text": [
      "Using Tool: Search a PDF's content\n"
     ]
    },
    {
     "data": {
      "text/plain": [
       "'Relevant Content:\\nRecurrent models typically factor computation along the symbol positions of the input and output sequences. Aligning the positions to steps in computation time, they generate a sequence of hidden states ht, as a function of the previous hidden state ht−1 and the input for position t. This inherently sequential nature precludes parallelization within training examples, which becomes critical at longer sequence lengths, as memory constraints limit batching across examples. Recent work has achieved signiﬁcant improvements in computational efﬁciency through factorization tricks [18] and conditional computation [26], while also improving model performance in case of the latter. The fundamental constraint of sequential computation, however, remains. Attention mechanisms have become an integral part of compelling sequence modeling and transduc- tion models in various tasks, allowing modeling of dependencies without regard to their distance in the input or output sequences [2, 16]. In all but\\n\\na few cases [22], however, such attention mechanisms are used in conjunction with a recurrent network. In this work we propose the Transformer, a model architecture eschewing recurrence and instead relying entirely on an attention mechanism to draw global dependencies between input and output. The Transformer allows for signiﬁcantly more parallelization and can reach a new state of the art in translation quality after being trained for as little as twelve hours on eight P100 GPUs. 2 Background The goal of reducing sequential computation also forms the foundation of the Extended Neural GPU [20], ByteNet [15] and ConvS2S [8], all of which use convolutional neural networks as basic building block, computing hidden representations in parallel for all input and output positions. In these models, the number of operations required to relate signals from two arbitrary input or output positions grows in the distance between positions, linearly for ConvS2S and logarithmically for ByteNet. This\\n\\nwe consider three desiderata. One is the total computational complexity per layer. Another is the amount of computation that can be parallelized, as measured by the minimum number of sequential operations required. The third is the path length between long-range dependencies in the network. Learning long-range dependencies is a key challenge in many sequence transduction tasks. One key factor affecting the ability to learn such dependencies is the length of the paths forward and backward signals have to traverse in the network. The shorter these paths between any combination of positions in the input and output sequences, the easier it is to learn long-range dependencies [11]. Hence we also compare the maximum path length between any two input and output positions in networks composed of the different layer types. As noted in Table 1, a self-attention layer connects all positions with a constant number of sequentially executed operations, whereas a recurrent layer requires O(n)'"
      ]
     },
     "execution_count": 20,
     "metadata": {},
     "output_type": "execute_result"
    }
   ],
   "source": [
    "rag_tool.run(\"what is the goal reducing sequential computation?\")"
   ]
  },
  {
   "cell_type": "code",
   "execution_count": 37,
   "metadata": {},
   "outputs": [],
   "source": [
    "os.environ[\"TAVILY_API_KEY\"] = getpass.getpass()"
   ]
  },
  {
   "cell_type": "code",
   "execution_count": 38,
   "metadata": {},
   "outputs": [
    {
     "data": {
      "text/plain": [
       "[{'title': 'Friday, April 4, 2025. San Francisco, CA - Weather Forecast',\n",
       "  'url': 'https://weathershogun.com/weather/usa/ca/san-francisco/480/april/2025-04-04',\n",
       "  'content': 'San Francisco, California Weather: Friday, April 4, 2025. Cloudy weather, overcast skies with clouds. Day 64°. Night 50°. Precipitation 0 %.',\n",
       "  'score': 0.9612766},\n",
       " {'title': 'Weather in san francisco',\n",
       "  'url': 'https://www.weatherapi.com/',\n",
       "  'content': \"{'location': {'name': 'San Francisco', 'region': 'California', 'country': 'United States of America', 'lat': 37.775, 'lon': -122.4183, 'tz_id': 'America/Los_Angeles', 'localtime_epoch': 1743745312, 'localtime': '2025-04-03 22:41'}, 'current': {'last_updated_epoch': 1743744600, 'last_updated': '2025-04-03 22:30', 'temp_c': 11.7, 'temp_f': 53.1, 'is_day': 0, 'condition': {'text': 'Partly cloudy', 'icon': '//cdn.weatherapi.com/weather/64x64/night/116.png', 'code': 1003}, 'wind_mph': 4.9, 'wind_kph': 7.9, 'wind_degree': 291, 'wind_dir': 'WNW', 'pressure_mb': 1019.0, 'pressure_in': 30.09, 'precip_mm': 0.0, 'precip_in': 0.0, 'humidity': 74, 'cloud': 25, 'feelslike_c': 11.0, 'feelslike_f': 51.8, 'windchill_c': 10.4, 'windchill_f': 50.8, 'heatindex_c': 11.3, 'heatindex_f': 52.3, 'dewpoint_c': 9.2, 'dewpoint_f': 48.5, 'vis_km': 16.0, 'vis_miles': 9.0, 'uv': 0.0, 'gust_mph': 8.3, 'gust_kph': 13.3}}\",\n",
       "  'score': 0.9499287},\n",
       " {'title': 'San Francisco weather in April 2025 | Weather25.com',\n",
       "  'url': 'https://www.weather25.com/north-america/usa/california/san-francisco?page=month&month=April',\n",
       "  'content': '| Sun | Mon | Tue | Wed | Thu | Fri | Sat |\\n| --- | --- | --- | --- | --- | --- | --- |\\n| \\n | \\n| 1  53° /48° | 2  53° /46° | 3  53° /46° | 4  62° /48° | 5  64° /53° |\\n| 6  57° /51° | 7  59° /50° | 8  60° /50° | 9  64° /53° | 10  64° /55° | 11  59° /53° | 12  55° /48° |\\n| 13  59° /46° | 14  59° /48° | 15  60° /48° | 16  62° /48° | 17  60° /48° | 18  60° /50° | 19  60° /50° |\\n| 20  60° /48° | 21  62° /50° | 22  62° /50° | 23  62° /50° | 24  62° /50° | 25  60° /50° | 26  64° /50° | [...] The temperatures in San Francisco in April are quite cold with temperatures between 48°F and 64°F, warm clothes are a must.\\nThe wather in San Francisco in April can vary between cold and nice weather days. Expect a few rainy days but usually not more than 3.\\nOur weather forecast can give you a great sense of what weather to expect in San Francisco in April 2025. [...] | July | 77° / 57° | 0 | 31 | 0 | 0.12 in | \\nPerfect\\n| San Francisco in July |\\n| August | 77° / 57° | 0 | 31 | 0 | 0.12 in | \\nPerfect\\n| San Francisco in August |\\n| September | 77° / 57° | 0 | 30 | 0 | 0.16 in | \\nPerfect\\n| San Francisco in September |\\n| October | 73° / 55° | 1 | 30 | 0 | 1.02 in | \\nPerfect\\n| San Francisco in October |\\n| November | 64° / 50° | 3 | 27 | 0 | 1.46 in | \\nGood\\n| San Francisco in November |\\n| December | 57° / 46° | 4 | 27 | 0 | 2.17 in | \\nGood',\n",
       "  'score': 0.9205687},\n",
       " {'title': 'Weather in San Francisco in April 2025 (California)',\n",
       "  'url': 'https://world-weather.info/forecast/usa/san_francisco/april-2025/',\n",
       "  'content': \"Sun\\nMon\\nTue\\nWed\\nThu\\nFri\\n\\nSat\\n\\n\\n1 +54°+50°\\n\\n2 +55°+46°\\n3 +57°+46°\\n4 +61°+46°\\n5 +64°+50°\\n6 +63°+52°\\n7 +59°+52°\\n8 +63°+50°\\n9 +66°+50°\\n10 +68°+52°\\n11 +64°+54°\\n12 +61°+52°\\n13 +61°+52°\\n14 +57°+55°\\n15 +59°+52°\\n16 +61°+52°\\n\\n17\\n+61°+52°\\n\\n\\n18\\n+63°+54°\\n\\n\\n19\\n+63°+54°\\n\\n\\n20\\n+63°+54°\\n\\n\\n21\\n+64°+54°\\n\\n\\n22\\n+63°+54°\\n\\n\\n23\\n+63°+54°\\n\\n\\n24\\n+63°+54°\\n\\n\\n25\\n+63°+54°\\n\\n\\n26\\n+64°+54°\\n\\n\\n27\\n+64°+54°\\n\\n\\n28\\n+64°+54°\\n\\n\\n29\\n+63°+54°\\n\\n\\n30\\n+63°+54°\\n\\n\\nExtended weather forecast in San Francisco\\nHourlyWeek10-Day14-Day30-DayYear [...] Weather in San Francisco in April 2025 (California) - Detailed Weather Forecast for a Month\\n\\nAdd the current city\\nSearch\\n\\nWeather\\nArchive\\nWidgets\\n\\n°F\\n\\nWorld\\nUnited States\\nCalifornia\\nWeather in San Francisco\\n\\nWeather in San Francisco in April 2025\\nSan Francisco Weather Forecast for April 2025 is based on long term prognosis and previous years' statistical data.\\n201520162017201820192020202120222023202420252026\\nJanFebMarAprMayJunJulAugSepOctNovDec\\nApril\\nStart Week On\\nSunday\\nMonday [...] Weather in large and nearby cities\\nWeather in Washington, D.C.+55°\\nSacramento+59°\\nPleasanton+55°\\nRedwood City+55°\\nSan Leandro+55°\\nSan Mateo+55°\\nSan Rafael+54°\\nSan Ramon+55°\\nSouth San Francisco+55°\\nVallejo+55°\\nPalo Alto+55°\\nPacifica+52°\\nBerkeley+55°\\nCastro Valley+54°\\nConcord+57°\\nDaly City+54°\\nHyde Park+55°\\nCorliss+57°\\nMinimum and maximum\\nworld's temperature today\\nCanada\\nIqaluit\\nday\\n-4°F\\nnight\\n-20°F\\nSudan\\nAl Ḩawātah\\nday\\n+117°F\\nnight\\n+86°F\\nWeather forecast on your site Install San Francisco+55°\",\n",
       "  'score': 0.9123193},\n",
       " {'title': 'San Francisco weather in April 2025 | California, USA',\n",
       "  'url': 'https://www.weather2travel.com/california/san-francisco/april/',\n",
       "  'content': 'San Francisco weather in April 2025. Expect daytime maximum temperatures of 17°C in San Francisco, California in April based on long-term weather averages.',\n",
       "  'score': 0.90593183}]"
      ]
     },
     "execution_count": 38,
     "metadata": {},
     "output_type": "execute_result"
    }
   ],
   "source": [
    "TavilySearchResults().invoke(\"whats the weather in san francisco?\")"
   ]
  },
  {
   "cell_type": "code",
   "execution_count": null,
   "metadata": {},
   "outputs": [],
   "source": [
    "@tool\n",
    "def router_tool(question):\n",
    "    if 'self-attention' in question:\n",
    "        return rag_tool.run(question)\n",
    "    else:\n",
    "        return TavilySearchResults().invoke(question)"
   ]
  }
 ],
 "metadata": {
  "kernelspec": {
   "display_name": "env",
   "language": "python",
   "name": "python3"
  },
  "language_info": {
   "codemirror_mode": {
    "name": "ipython",
    "version": 3
   },
   "file_extension": ".py",
   "mimetype": "text/x-python",
   "name": "python",
   "nbconvert_exporter": "python",
   "pygments_lexer": "ipython3",
   "version": "3.12.4"
  }
 },
 "nbformat": 4,
 "nbformat_minor": 2
}
